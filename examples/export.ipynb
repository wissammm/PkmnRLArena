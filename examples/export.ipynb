{
 "cells": [
  {
   "cell_type": "markdown",
   "id": "51769646",
   "metadata": {},
   "source": [
    "# Generate a C export for the GBA\n",
    "If you have trained model in onnx, you can generate a c export of inference for the gba "
   ]
  }
 ],
 "metadata": {
  "language_info": {
   "name": "python"
  }
 },
 "nbformat": 4,
 "nbformat_minor": 5
}
