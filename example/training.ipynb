{
 "cells": [
  {
   "cell_type": "markdown",
   "id": "70c4b235",
   "metadata": {},
   "source": [
    "# Train the neural network\n",
    "TODO "
   ]
  },
  {
   "cell_type": "code",
   "execution_count": null,
   "id": "c8b43574",
   "metadata": {
    "vscode": {
     "languageId": "plaintext"
    }
   },
   "outputs": [],
   "source": []
  }
 ],
 "metadata": {
  "language_info": {
   "name": "python"
  }
 },
 "nbformat": 4,
 "nbformat_minor": 5
}
